{
  "nbformat": 4,
  "nbformat_minor": 0,
  "metadata": {
    "colab": {
      "name": "CAN.ipynb",
      "provenance": [],
      "collapsed_sections": [],
      "authorship_tag": "ABX9TyPg5XzWHDNyVAYkPMKIwgST",
      "include_colab_link": true
    },
    "kernelspec": {
      "name": "python3",
      "display_name": "Python 3"
    },
    "language_info": {
      "name": "python"
    }
  },
  "cells": [
    {
      "cell_type": "markdown",
      "metadata": {
        "id": "view-in-github",
        "colab_type": "text"
      },
      "source": [
        "<a href=\"https://colab.research.google.com/github/liorger/OTA/blob/master/CAN.ipynb\" target=\"_parent\"><img src=\"https://colab.research.google.com/assets/colab-badge.svg\" alt=\"Open In Colab\"/></a>"
      ]
    },
    {
      "cell_type": "code",
      "metadata": {
        "colab": {
          "base_uri": "https://localhost:8080/"
        },
        "id": "Qgq-y1LZDc4X",
        "outputId": "6fdce8e4-e1de-48aa-9480-2546de034223"
      },
      "source": [
        "%%writefile can.c\n",
        "\n",
        "#include <time.h>\n",
        "#include <stdio.h>\n",
        "#include <stdlib.h>\n",
        "#include <string.h>\n",
        "\n",
        "int main(void)\n",
        "{\n",
        "  FILE * fp;\n",
        "  /* open the file for writing*/\n",
        "  fp = fopen (\"logFile.txt\",\"w\");\n",
        "  \n",
        "  srand(time(NULL));   // Initialization, should only be called once.\n",
        "  \n",
        "  for (int i=0; i<10; i++)\n",
        "  {\n",
        "    int r = rand();      // Returns a pseudo-random integer between 0 and RAND_MAX.\n",
        "    \n",
        "    //Write random number to file 10 times\n",
        "    fprintf (fp, \"Random number is %d\\n\",r);\n",
        "  }\n",
        "  \n",
        "  /* close the file*/  \n",
        "  fclose (fp);\n",
        "  \n",
        "  return 0;\n",
        "}\n"
      ],
      "execution_count": 28,
      "outputs": [
        {
          "output_type": "stream",
          "text": [
            "Overwriting can.c\n"
          ],
          "name": "stdout"
        }
      ]
    },
    {
      "cell_type": "code",
      "metadata": {
        "colab": {
          "base_uri": "https://localhost:8080/"
        },
        "id": "PHc6DSLQEk3F",
        "outputId": "3229ab2c-cc39-4f9b-fedc-d2f429879a67"
      },
      "source": [
        "%%shell\n",
        "\n",
        "gcc can.c -o output"
      ],
      "execution_count": 29,
      "outputs": [
        {
          "output_type": "execute_result",
          "data": {
            "text/plain": [
              ""
            ]
          },
          "metadata": {
            "tags": []
          },
          "execution_count": 29
        }
      ]
    },
    {
      "cell_type": "code",
      "metadata": {
        "colab": {
          "base_uri": "https://localhost:8080/"
        },
        "id": "P40CCkXDFDs0",
        "outputId": "87a79dff-cfd6-4d10-9308-9b7b386c938e"
      },
      "source": [
        "%%shell\n",
        "./output"
      ],
      "execution_count": 30,
      "outputs": [
        {
          "output_type": "execute_result",
          "data": {
            "text/plain": [
              ""
            ]
          },
          "metadata": {
            "tags": []
          },
          "execution_count": 30
        }
      ]
    },
    {
      "cell_type": "code",
      "metadata": {
        "colab": {
          "base_uri": "https://localhost:8080/"
        },
        "id": "seE7zcZmFpPM",
        "outputId": "f8afcc44-79eb-45a8-c1ab-8b89b0288d8c"
      },
      "source": [
        "ls -l"
      ],
      "execution_count": 35,
      "outputs": [
        {
          "output_type": "stream",
          "text": [
            "total 24\n",
            "-rw-r--r-- 1 root root  522 May 27 18:35 can.c\n",
            "-rw-r--r-- 1 root root  275 May 27 18:35 logFile.txt\n",
            "-rwxr-xr-x 1 root root 8496 May 27 18:35 \u001b[0m\u001b[01;32moutput\u001b[0m*\n",
            "drwxr-xr-x 1 root root 4096 May  6 13:44 \u001b[01;34msample_data\u001b[0m/\n"
          ],
          "name": "stdout"
        }
      ]
    }
  ]
}